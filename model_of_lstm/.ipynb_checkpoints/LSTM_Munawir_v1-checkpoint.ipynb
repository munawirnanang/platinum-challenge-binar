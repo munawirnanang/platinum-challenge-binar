{
 "cells": [
  {
   "cell_type": "code",
   "execution_count": null,
   "metadata": {
    "id": "ImWRuw6kv81a"
   },
   "outputs": [],
   "source": [
    "# Train"
   ]
  },
  {
   "cell_type": "code",
   "execution_count": null,
   "metadata": {
    "colab": {
     "base_uri": "https://localhost:8080/"
    },
    "id": "hQLrk2TnggrW",
    "outputId": "ba2add14-a577-4c70-92ea-9d4ca993db58"
   },
   "outputs": [
    {
     "name": "stdout",
     "output_type": "stream",
     "text": [
      "Drive already mounted at /content/drive; to attempt to forcibly remount, call drive.mount(\"/content/drive\", force_remount=True).\n"
     ]
    }
   ],
   "source": [
    "# from google.colab import drive\n",
    "# drive.mount('/content/drive')"
   ]
  },
  {
   "cell_type": "code",
   "execution_count": 1,
   "metadata": {
    "colab": {
     "base_uri": "https://localhost:8080/"
    },
    "id": "75HuCxh6gk7R",
    "outputId": "f4b1c31c-498c-457a-f513-8bf7643f1b52"
   },
   "outputs": [],
   "source": [
    "# import library pandas\n",
    "import pandas as pd\n",
    "\n",
    "# df_train = pd.read_csv('/content/drive/MyDrive/Repo CHP 9/[Platinum] Chapter 9/Data Latihan Students Chapter 9/Data NusaX/train.csv')\n",
    "# df_valid = pd.read_csv('/content/drive/MyDrive/Repo CHP 9/[Platinum] Chapter 9/Data Latihan Students Chapter 9/Data NusaX/valid.csv')\n",
    "\n",
    "# buat header kolom tabel dengan nama text dan label\n",
    "header = ['text', 'label']\n",
    "\n",
    "# masukan data train\n",
    "df = pd.read_csv('train_preprocess.txt', \n",
    "                sep='\\t',\n",
    "                lineterminator='\\n',\n",
    "                on_bad_lines='error',\n",
    "                header=None,\n",
    "                names=header)\n",
    "\n",
    "# df = df_train.append(df_valid, ignore_index=True)"
   ]
  },
  {
   "cell_type": "code",
   "execution_count": 2,
   "metadata": {
    "colab": {
     "base_uri": "https://localhost:8080/",
     "height": 206
    },
    "id": "cBWYTW-LgzGH",
    "outputId": "fca4d255-0751-4b85-d969-f8f67a1bf2f5"
   },
   "outputs": [
    {
     "data": {
      "text/html": [
       "<div>\n",
       "<style scoped>\n",
       "    .dataframe tbody tr th:only-of-type {\n",
       "        vertical-align: middle;\n",
       "    }\n",
       "\n",
       "    .dataframe tbody tr th {\n",
       "        vertical-align: top;\n",
       "    }\n",
       "\n",
       "    .dataframe thead th {\n",
       "        text-align: right;\n",
       "    }\n",
       "</style>\n",
       "<table border=\"1\" class=\"dataframe\">\n",
       "  <thead>\n",
       "    <tr style=\"text-align: right;\">\n",
       "      <th></th>\n",
       "      <th>text</th>\n",
       "      <th>label</th>\n",
       "    </tr>\n",
       "  </thead>\n",
       "  <tbody>\n",
       "    <tr>\n",
       "      <th>0</th>\n",
       "      <td>warung ini dimiliki oleh pengusaha pabrik tahu...</td>\n",
       "      <td>positive</td>\n",
       "    </tr>\n",
       "    <tr>\n",
       "      <th>1</th>\n",
       "      <td>mohon ulama lurus dan k212 mmbri hujjah partai...</td>\n",
       "      <td>neutral</td>\n",
       "    </tr>\n",
       "    <tr>\n",
       "      <th>2</th>\n",
       "      <td>lokasi strategis di jalan sumatera bandung . t...</td>\n",
       "      <td>positive</td>\n",
       "    </tr>\n",
       "    <tr>\n",
       "      <th>3</th>\n",
       "      <td>betapa bahagia nya diri ini saat unboxing pake...</td>\n",
       "      <td>positive</td>\n",
       "    </tr>\n",
       "    <tr>\n",
       "      <th>4</th>\n",
       "      <td>duh . jadi mahasiswa jangan sombong dong . kas...</td>\n",
       "      <td>negative</td>\n",
       "    </tr>\n",
       "  </tbody>\n",
       "</table>\n",
       "</div>"
      ],
      "text/plain": [
       "                                                text     label\n",
       "0  warung ini dimiliki oleh pengusaha pabrik tahu...  positive\n",
       "1  mohon ulama lurus dan k212 mmbri hujjah partai...   neutral\n",
       "2  lokasi strategis di jalan sumatera bandung . t...  positive\n",
       "3  betapa bahagia nya diri ini saat unboxing pake...  positive\n",
       "4  duh . jadi mahasiswa jangan sombong dong . kas...  negative"
      ]
     },
     "execution_count": 2,
     "metadata": {},
     "output_type": "execute_result"
    }
   ],
   "source": [
    "# tampilkan 5 data pertama\n",
    "df.head()"
   ]
  },
  {
   "cell_type": "code",
   "execution_count": 3,
   "metadata": {},
   "outputs": [
    {
     "name": "stdout",
     "output_type": "stream",
     "text": [
      "found 17272 unique tokens.\n",
      "Shape of data tensor: (11000, 96)\n"
     ]
    }
   ],
   "source": [
    "# Import keras dari library tensorflow\n",
    "import tensorflow as tf\n",
    "from tensorflow import keras\n",
    "\n",
    "from tensorflow.keras.preprocessing.sequence import pad_sequences\n",
    "from tensorflow.keras.preprocessing.text import Tokenizer\n",
    "# from tensorflow.keras.callbacks import EarlyStopping\n",
    "\n",
    "# Memecah kalimat menjadi kata.  \n",
    "# saring text yang mengandung !\"#$%&()*+,-./:;<=>?@[\\\\]^_`{|}~\\t\\n\n",
    "# ubah text menjadi lowercase\n",
    "tokenizer = Tokenizer(filters='!\"#$%&()*+,-./:;<=>?@[\\\\]^_`{|}~\\t\\n', lower=True)\n",
    "# setiap kalimat pada df['text'] diubah ke dalam bentuk tokenizer\n",
    "tokenizer.fit_on_texts(df['text'].values)\n",
    "# tampung kata unique yang sudah di tokenizer ke dalam variable word_index\n",
    "word_index = tokenizer.word_index\n",
    "# tampilkan jumlah kata unique\n",
    "print('found %s unique tokens.' % len(word_index))\n",
    "\n",
    "# ubah kata pada data df['text'] menjadi urutan integer\n",
    "sekuens_x = tokenizer.texts_to_sequences(df['text'].values)\n",
    "# ubah urutan integer pada sequences_x ke dalam array 2D.\n",
    "# maxlen=None. maksimum panjang array akan disesuaikan dengan kalimat yang memiliki kumpulan kata terpanjang pada valiable sekuens_x\n",
    "# kalimat yang tidak memiliki kumpulan kata yang panjang akan di berikan pading\n",
    "padded_x = pad_sequences(sekuens_x, maxlen=None)\n",
    "# tampilkan shape data padded_x\n",
    "print('Shape of data tensor:', padded_x.shape)"
   ]
  },
  {
   "cell_type": "code",
   "execution_count": 4,
   "metadata": {
    "colab": {
     "base_uri": "https://localhost:8080/"
    },
    "id": "Gy9Q-0R1hgzv",
    "outputId": "1549f8d0-3e7b-4826-9d03-96fb5d3604a8"
   },
   "outputs": [
    {
     "data": {
      "text/plain": [
       "[250,\n",
       " 11,\n",
       " 2661,\n",
       " 125,\n",
       " 3848,\n",
       " 3456,\n",
       " 112,\n",
       " 2,\n",
       " 30,\n",
       " 1385,\n",
       " 169,\n",
       " 256,\n",
       " 143,\n",
       " 112,\n",
       " 596,\n",
       " 4,\n",
       " 22,\n",
       " 112,\n",
       " 770,\n",
       " 1894,\n",
       " 6393,\n",
       " 1623,\n",
       " 1894,\n",
       " 8842,\n",
       " 2196,\n",
       " 250,\n",
       " 2,\n",
       " 320,\n",
       " 21,\n",
       " 436,\n",
       " 2485,\n",
       " 112,\n",
       " 266,\n",
       " 21,\n",
       " 403,\n",
       " 94,\n",
       " 55,\n",
       " 47,\n",
       " 380,\n",
       " 362,\n",
       " 108,\n",
       " 18,\n",
       " 25,\n",
       " 139,\n",
       " 137,\n",
       " 2870,\n",
       " 112,\n",
       " 8843,\n",
       " 1,\n",
       " 5,\n",
       " 496,\n",
       " 7,\n",
       " 2,\n",
       " 453,\n",
       " 19,\n",
       " 8844]"
      ]
     },
     "execution_count": 4,
     "metadata": {},
     "output_type": "execute_result"
    }
   ],
   "source": [
    "sekuens_x[0]"
   ]
  },
  {
   "cell_type": "code",
   "execution_count": 5,
   "metadata": {
    "colab": {
     "base_uri": "https://localhost:8080/"
    },
    "id": "FVLXBYjYh0Qr",
    "outputId": "bc16453a-4483-418f-b9f1-00c4f6368203"
   },
   "outputs": [
    {
     "data": {
      "text/plain": [
       "array([   0,    0,    0,    0,    0,    0,    0,    0,    0,    0,    0,\n",
       "          0,    0,    0,    0,    0,    0,    0,    0,    0,    0,    0,\n",
       "          0,    0,    0,    0,    0,    0,    0,    0,    0,    0,    0,\n",
       "          0,    0,    0,    0,    0,    0,    0,  250,   11, 2661,  125,\n",
       "       3848, 3456,  112,    2,   30, 1385,  169,  256,  143,  112,  596,\n",
       "          4,   22,  112,  770, 1894, 6393, 1623, 1894, 8842, 2196,  250,\n",
       "          2,  320,   21,  436, 2485,  112,  266,   21,  403,   94,   55,\n",
       "         47,  380,  362,  108,   18,   25,  139,  137, 2870,  112, 8843,\n",
       "          1,    5,  496,    7,    2,  453,   19, 8844])"
      ]
     },
     "execution_count": 5,
     "metadata": {},
     "output_type": "execute_result"
    }
   ],
   "source": [
    "padded_x[0]"
   ]
  },
  {
   "cell_type": "code",
   "execution_count": 6,
   "metadata": {},
   "outputs": [
    {
     "name": "stdout",
     "output_type": "stream",
     "text": [
      "shape of tensor: (11000, 3)\n"
     ]
    }
   ],
   "source": [
    "# ubah kategori label ke dalam indikator variable. value pada label akan menjadi header dan isinya berubah menjadi 1/0 True/False\n",
    "y = pd.get_dummies(df.label)\n",
    "# tampilkan shape dari data y\n",
    "print('shape of tensor:', y.shape)"
   ]
  },
  {
   "cell_type": "code",
   "execution_count": 7,
   "metadata": {
    "id": "vhYWxt5Th5XJ"
   },
   "outputs": [],
   "source": [
    "from sklearn.model_selection import train_test_split\n",
    "\n",
    "# Memecah data pada padded_x dan y menjadi data latih dan data uji \n",
    "# 20% data di ubah menjadi data uji.\n",
    "# random_state untuk mengatur data yang diacak\n",
    "x_train, x_test, y_train, y_test = train_test_split(padded_x, y, test_size=0.2, random_state = 42)\n",
    "# Memecah data x_train dan y_train menjadi data latih dan data val\n",
    "x_train, x_val, y_train, y_val = train_test_split(x_train, y_train, test_size=0.2, random_state = 42)"
   ]
  },
  {
   "cell_type": "code",
   "execution_count": 8,
   "metadata": {
    "colab": {
     "base_uri": "https://localhost:8080/"
    },
    "id": "wDfx-T_yx-S8",
    "outputId": "282cdace-4e08-4d8b-e860-c52fa4f0bb8b"
   },
   "outputs": [
    {
     "name": "stdout",
     "output_type": "stream",
     "text": [
      "(7040, 96) (7040, 3)\n",
      "(2200, 96) (2200, 3)\n",
      "(1760, 96) (1760, 3)\n"
     ]
    }
   ],
   "source": [
    "print(x_train.shape, y_train.shape)\n",
    "print(x_test.shape, y_test.shape)\n",
    "print(x_val.shape, y_val.shape)"
   ]
  },
  {
   "cell_type": "code",
   "execution_count": 9,
   "metadata": {
    "colab": {
     "base_uri": "https://localhost:8080/"
    },
    "id": "D5kyZ3bj36Fa",
    "outputId": "5620c9b8-a0e3-46eb-abe6-1f8976298109"
   },
   "outputs": [
    {
     "name": "stdout",
     "output_type": "stream",
     "text": [
      "Epoch 1/10\n",
      "880/880 [==============================] - 109s 122ms/step - loss: 0.5059 - categorical_accuracy: 0.7987 - val_loss: 0.3513 - val_categorical_accuracy: 0.8693\n",
      "CPU times: total: 6min 49s\n",
      "Wall time: 1min 49s\n"
     ]
    }
   ],
   "source": [
    "%%time\n",
    "\n",
    "# buat model sequential\n",
    "# tf.keras.layers.Embedding(input_dim=100000, output_dim=128) untuk mengubah index menjadi vektor. jumlah fitur pada data yang akan dimasukkan ke dalam model sebanyak 100000, jumlah dimensi output=128 \n",
    "# tf.keras.layers.LSTM(32, dropout=0.2) untuk membuat layer LSTM. Jumlah unit yang mengontrol kompleksitas dan kapasitas model sebanyak 32. dropout=0.2 untuk menentukan tingkat dropout yang digunakan untuk mengurangi overfitting dengan secara acak \"menjatuhkan\" (mengabaikan) sebagian unit selama pelatihan\n",
    "# tf.keras.layers.Dense(8, activation='relu') untuk membuat lapisan Dense (fully connected layer). 8 adalah argumen units atau jumlah neuron atau unit yang akan digunakan dalam lapisan Dense. argumen activation yang menentukan fungsi aktivasi yang akan digunakan pada output lapisan Dense, relu (Rectified Linear Unit) digunakan sebagai fungsi aktivasi.\n",
    "# activation='softmax': Ini adalah argumen activation yang menentukan fungsi aktivasi yang akan digunakan pada output lapisan Dense. Dalam kasus ini, softmax digunakan sebagai fungsi aktivasi. Softmax sering digunakan pada lapisan output saat menangani masalah klasifikasi multikelas\n",
    "model = tf.keras.Sequential([\n",
    "    tf.keras.layers.Embedding(input_dim=100000, output_dim=128),\n",
    "    tf.keras.layers.LSTM(32, dropout=0.2),\n",
    "    tf.keras.layers.Dense(8, activation='relu'),\n",
    "    tf.keras.layers.Dense(3, activation='softmax')\n",
    "])\n",
    "\n",
    "# membuat class untuk mengatur prilaku saat pelatihan model\n",
    "class myCallback(tf.keras.callbacks.Callback):\n",
    "    # Aksi yang dilakukan pada akhir setiap epoch\n",
    "    def on_epoch_end(self, epoch, logs={}):\n",
    "        # jika akurasi lebih dari 90 maka model di hentikan\n",
    "        if(logs.get('val_categorical_accuracy') > 0.9 ):\n",
    "            self.model.stop_training = True\n",
    "\n",
    "# panggil kelas myCallback()\n",
    "callbacks = myCallback()\n",
    "\n",
    "# gunakan optimizers adam. argumen learning_rate yang menentukan tingkat pembelajaran (learning rate) yang akan digunakan oleh optimizer\n",
    "optimizer = keras.optimizers.Adam(learning_rate=0.001)\n",
    "\n",
    "# compile model. argumen loss yang menentukan fungsi kerugian yang akan digunakan selama pelatihan.argumen optimizer yang menentukan optimizer yang akan digunakan selama pelatihan. argumen metrics yang menentukan metrik evaluasi yang akan digunakan untuk memantau kinerja model selama pelatihan\n",
    "model.compile(loss='categorical_crossentropy',\n",
    "              optimizer=optimizer,\n",
    "              metrics=['categorical_accuracy'])\n",
    "\n",
    "# data latih x_train, y_train. rgumen batch_size yang menentukan jumlah sampel yang digunakan dalam setiap iterasi pelatihan. argumen epochs yang menentukan jumlah iterasi pelatihan yang akan dilakukan. argumen validation_data yang berisi data validasi yang akan digunakan untuk memantau kinerja model selama pelatihan. rgumen callbacks yang berisi daftar callback yang akan digunakan selama pelatihan. Callbacks dapat digunakan untuk melakukan tindakan khusus pada titik-titik tertentu selama pelatihan, seperti menyimpan model terbaik, menghentikan pelatihan dini, atau menyesuaikan tingkat pembelajara\n",
    "fit = model.fit(x_train, \n",
    "                y_train, \n",
    "                batch_size = 8,\n",
    "                epochs=10, \n",
    "                validation_data=(x_val, y_val),     \n",
    "                callbacks = [callbacks]\n",
    ")"
   ]
  },
  {
   "cell_type": "code",
   "execution_count": 10,
   "metadata": {
    "colab": {
     "base_uri": "https://localhost:8080/"
    },
    "id": "KP1wxMeQmm4a",
    "outputId": "4c606c87-93e7-4bd9-ca3e-ade7369a10f7"
   },
   "outputs": [
    {
     "name": "stdout",
     "output_type": "stream",
     "text": [
      "Model: \"sequential\"\n",
      "_________________________________________________________________\n",
      " Layer (type)                Output Shape              Param #   \n",
      "=================================================================\n",
      " embedding (Embedding)       (None, None, 128)         12800000  \n",
      "                                                                 \n",
      " lstm (LSTM)                 (None, 32)                20608     \n",
      "                                                                 \n",
      " dense (Dense)               (None, 8)                 264       \n",
      "                                                                 \n",
      " dense_1 (Dense)             (None, 3)                 27        \n",
      "                                                                 \n",
      "=================================================================\n",
      "Total params: 12,820,899\n",
      "Trainable params: 12,820,899\n",
      "Non-trainable params: 0\n",
      "_________________________________________________________________\n"
     ]
    }
   ],
   "source": [
    "# tampilkan ringkasan (summary) dari arsitektur model\n",
    "model.summary()"
   ]
  },
  {
   "cell_type": "code",
   "execution_count": 11,
   "metadata": {
    "colab": {
     "base_uri": "https://localhost:8080/",
     "height": 430
    },
    "id": "-AzJCNMxo6zy",
    "outputId": "c37d230b-b6fd-4b0d-c7ab-65717590ab3a"
   },
   "outputs": [
    {
     "data": {
      "image/png": "[encoded data removed]",
      "text/plain": [
       "<Figure size 640x480 with 1 Axes>"
      ]
     },
     "metadata": {},
     "output_type": "display_data"
    }
   ],
   "source": [
    "import matplotlib.pyplot as plt\n",
    "\n",
    "# membuat plot dari metrik evaluasi categorical_accuracy \n",
    "plt.plot(fit.history['categorical_accuracy'], label='train')\n",
    "# membuat plot dari metrik evaluasi val_categorical_accuracy \n",
    "plt.plot(fit.history['val_categorical_accuracy'], label='val')\n",
    "plt.legend()\n",
    "plt.show()"
   ]
  },
  {
   "cell_type": "code",
   "execution_count": 12,
   "metadata": {
    "colab": {
     "base_uri": "https://localhost:8080/",
     "height": 430
    },
    "id": "jqVMOmJipV64",
    "outputId": "62eacd58-6a70-43bf-bbee-33aa1481241d"
   },
   "outputs": [
    {
     "data": {
      "image/png": "[encoded data removed]",
      "text/plain": [
       "<Figure size 640x480 with 1 Axes>"
      ]
     },
     "metadata": {},
     "output_type": "display_data"
    }
   ],
   "source": [
    "# membuat plot dari metrik evaluasi loss\n",
    "plt.plot(fit.history['loss'], label='train')\n",
    "# membuat plot dari metrik evaluasi val_loss\n",
    "plt.plot(fit.history['val_loss'], label='val')\n",
    "plt.legend()\n",
    "plt.show()"
   ]
  },
  {
   "cell_type": "code",
   "execution_count": 13,
   "metadata": {
    "colab": {
     "base_uri": "https://localhost:8080/"
    },
    "id": "8w9aXTw7pagQ",
    "outputId": "01e92909-fa72-4235-8b1f-ffef7cec772a"
   },
   "outputs": [
    {
     "name": "stdout",
     "output_type": "stream",
     "text": [
      "220/220 [==============================] - 3s 9ms/step - loss: 0.2478 - categorical_accuracy: 0.9199\n",
      "55/55 [==============================] - 1s 10ms/step - loss: 0.3513 - categorical_accuracy: 0.8693\n",
      "69/69 [==============================] - 1s 9ms/step - loss: 0.3920 - categorical_accuracy: 0.8514\n",
      "\n",
      "Train: 0.920, val: 0.869, test: 0.851,\n"
     ]
    }
   ],
   "source": [
    "# evaluasi kinerja model pada data pelatihan, data validasi, dan data uji\n",
    "# train_loss dan train_acc berisi nilai loss dan akurasi model pada data pelatihan.\n",
    "train_loss, train_acc = model.evaluate(x_train, y_train)\n",
    "# val_loss dan val_acc akan berisi nilai loss dan akurasi model pada data validasi.\n",
    "val_loss, val_acc = model.evaluate(x_val, y_val)\n",
    "# test_loss dan test_acc akan berisi nilai loss dan akurasi model pada data uji.\n",
    "test_loss, test_acc = model.evaluate(x_test, y_test)\n",
    "\n",
    "print('\\nTrain: %.3f, val: %.3f, test: %.3f,' % (train_acc, val_acc, test_acc))"
   ]
  },
  {
   "cell_type": "code",
   "execution_count": 14,
   "metadata": {
    "id": "baoO0ng3p97V"
   },
   "outputs": [],
   "source": [
    "filename = 'lstm.h5'\n",
    "# simpan model\n",
    "model.save(filename)"
   ]
  },
  {
   "cell_type": "code",
   "execution_count": 15,
   "metadata": {
    "id": "Rg8PLDMZqHOJ"
   },
   "outputs": [],
   "source": [
    "import io\n",
    "import json\n",
    "\n",
    "tokenizer_json = tokenizer.to_json()\n",
    "with io.open('tokenizer.json', 'w', encoding='utf-8') as f:\n",
    "    f.write(json.dumps(tokenizer_json, ensure_ascii=False))"
   ]
  }
 ],
 "metadata": {
  "colab": {
   "provenance": []
  },
  "kernelspec": {
   "display_name": "Python 3 (ipykernel)",
   "language": "python",
   "name": "python3"
  },
  "language_info": {
   "codemirror_mode": {
    "name": "ipython",
    "version": 3
   },
   "file_extension": ".py",
   "mimetype": "text/x-python",
   "name": "python",
   "nbconvert_exporter": "python",
   "pygments_lexer": "ipython3",
   "version": "3.11.1"
  }
 },
 "nbformat": 4,
 "nbformat_minor": 1
}
